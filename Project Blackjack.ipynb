{
 "cells": [
  {
   "cell_type": "code",
   "execution_count": 1,
   "metadata": {},
   "outputs": [],
   "source": [
    "from autoplay import AutoPlay\n",
    "import pandas as pd\n",
    "import numpy as np\n",
    "import csv"
   ]
  },
  {
   "cell_type": "code",
   "execution_count": null,
   "metadata": {},
   "outputs": [],
   "source": [
    "means = []\n",
    "max_ucb = 0\n",
    "max_performance = 0\n",
    "max_gain = 0\n",
    "best_spread = []\n",
    "for n in range(100):\n",
    "    ap = AutoPlay()\n",
    "    ap.init_bot('Basic-Bot', 1000, 50, 4)\n",
    "    ap.blockPrint()\n",
    "    ap.run(60, 1000)\n",
    "\n",
    "    data = pd.read_csv('blackjack_summary_60.csv')\n",
    "    data = data[data['Deck Size'] < 260]\n",
    "\n",
    "    win_data = data[data['Win'] > 0]\n",
    "    los_data = data[data['Loss'] > 0]\n",
    "    counts = []\n",
    "    for i in range(int(win_data['True Count'].max())-1):\n",
    "        w1 = win_data[win_data['True Count'] > i]\n",
    "        w1 = w1[w1['True Count'] < i+1]\n",
    "        l1 = los_data[los_data['True Count'] > i]\n",
    "        l1 = l1[l1['True Count'] < i+1]\n",
    "        if w1.shape[0] == 0 or l1.shape[0] == 0:\n",
    "            count = 0\n",
    "        else:\n",
    "            count = (w1.shape[0]/l1.shape[0])/(w1.shape[0]+l1.shape[0])*100\n",
    "        counts.append(count)\n",
    "    df = pd.DataFrame({'Counts+':counts})\n",
    "    pdf = df[df['Counts+'] > 0]\n",
    "    counts = []\n",
    "    for i in range(-1, int(win_data['True Count'].min()), -1):\n",
    "        w1 = win_data[win_data['True Count'] > i]\n",
    "        w1 = w1[w1['True Count'] < i+1]\n",
    "        l1 = los_data[los_data['True Count'] > i]\n",
    "        l1 = l1[l1['True Count'] < i+1]\n",
    "        if w1.shape[0] == 0 or l1.shape[0] == 0:\n",
    "            count = 0\n",
    "        else:\n",
    "            count = (w1.shape[0]/l1.shape[0])/(w1.shape[0]+l1.shape[0])*100\n",
    "        counts.append(count)\n",
    "    df = pd.DataFrame({'Counts-':counts})\n",
    "    mdf = df[df['Counts-'] > 0]\n",
    "    tdf = pd.DataFrame(pdf['Counts+'])\n",
    "    tdf.insert(0, 'Counts-', mdf['Counts-'], True)\n",
    "    bets = []\n",
    "    for i in range(11):\n",
    "        bet = tdf.at[i, 'Counts-'] * 100\n",
    "        bets.append(bet)\n",
    "    for i in range(11):\n",
    "        bet = tdf.at[i, 'Counts+'] * 100\n",
    "        bets.append(bet)\n",
    "    \n",
    "    file_to_open = 'blackjack_bet_spread.csv'\n",
    "    with open(file_to_open, 'w', newline='') as file:\n",
    "        writer = csv.writer(file)\n",
    "        writer.writerow(['Bet Spread'])\n",
    "        writer.writerow(bets)\n",
    "\n",
    "    ap = AutoPlay()\n",
    "    ap.load_spread()\n",
    "    ap.init_bot('Basic-Bot', 1000, 50, 3)\n",
    "    ap.init_bot('Biased-Bot', 1000, 50, 4)\n",
    "    ap.blockPrint()\n",
    "    ap.evaluate_spreads(60, 100)\n",
    "    \n",
    "    sdata = pd.DataFrame({'Performance': ap.performances, 'Gain': ap.gains})    \n",
    "    if sdata.mean()[0] > max_performance:\n",
    "        max_performance = sdata.mean()[0]\n",
    "        max_gain = sdata.mean()[1]\n",
    "        best_spread = bets\n",
    "    means.append(sdata.mean())\n",
    "means"
   ]
  },
  {
   "cell_type": "code",
   "execution_count": null,
   "metadata": {},
   "outputs": [],
   "source": [
    "file_to_open = 'blackjack_bet_spread.csv'\n",
    "with open(file_to_open, 'w', newline='') as file:\n",
    "    writer = csv.writer(file)\n",
    "    writer.writerow(['Bet Spread'])\n",
    "    writer.writerow(best_spread)\n",
    "\n",
    "ap = AutoPlay()\n",
    "ap.load_spread() \n",
    "ap.init_bot('Basic-Bot', 1000, 50, 3)\n",
    "ap.init_bot('Biased-Bot', 1000, 50, 4)\n",
    "ap.blockPrint()\n",
    "ap.evaluate_spreads(60, 1)\n",
    "ap.enablePrint()\n",
    "\n",
    "sdata = pd.DataFrame({'Performance': ap.performances, 'Gain': ap.gains})\n",
    "sdata.mean()"
   ]
  },
  {
   "cell_type": "code",
   "execution_count": null,
   "metadata": {},
   "outputs": [],
   "source": [
    "best_spread"
   ]
  },
  {
   "cell_type": "code",
   "execution_count": null,
   "metadata": {},
   "outputs": [],
   "source": [
    "max_performance"
   ]
  },
  {
   "cell_type": "code",
   "execution_count": null,
   "metadata": {},
   "outputs": [],
   "source": []
  }
 ],
 "metadata": {
  "kernelspec": {
   "display_name": "Python 3",
   "language": "python",
   "name": "python3"
  },
  "language_info": {
   "codemirror_mode": {
    "name": "ipython",
    "version": 3
   },
   "file_extension": ".py",
   "mimetype": "text/x-python",
   "name": "python",
   "nbconvert_exporter": "python",
   "pygments_lexer": "ipython3",
   "version": "3.7.4"
  }
 },
 "nbformat": 4,
 "nbformat_minor": 2
}
